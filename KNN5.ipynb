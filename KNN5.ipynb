{
  "nbformat": 4,
  "nbformat_minor": 0,
  "metadata": {
    "colab": {
      "provenance": [],
      "authorship_tag": "ABX9TyNbQNWIXRNZkgIsS9SaNw3S",
      "include_colab_link": true
    },
    "kernelspec": {
      "name": "python3",
      "display_name": "Python 3"
    },
    "language_info": {
      "name": "python"
    }
  },
  "cells": [
    {
      "cell_type": "markdown",
      "metadata": {
        "id": "view-in-github",
        "colab_type": "text"
      },
      "source": [
        "<a href=\"https://colab.research.google.com/github/mprksa/Blocks2/blob/main/KNN5.ipynb\" target=\"_parent\"><img src=\"https://colab.research.google.com/assets/colab-badge.svg\" alt=\"Open In Colab\"/></a>"
      ]
    },
    {
      "cell_type": "code",
      "execution_count": 1,
      "metadata": {
        "colab": {
          "base_uri": "https://localhost:8080/"
        },
        "id": "iMVfyntaomIE",
        "outputId": "7e0ed1c2-d3fd-4cf6-e291-1e9d969cb43b"
      },
      "outputs": [
        {
          "output_type": "stream",
          "name": "stdout",
          "text": [
            "Cloning into 'Blocks2'...\n",
            "remote: Enumerating objects: 884, done.\u001b[K\n",
            "remote: Counting objects: 100% (884/884), done.\u001b[K\n",
            "remote: Compressing objects: 100% (870/870), done.\u001b[K\n",
            "remote: Total 884 (delta 35), reused 0 (delta 0), pack-reused 0\u001b[K\n",
            "Receiving objects: 100% (884/884), 1.82 GiB | 23.59 MiB/s, done.\n",
            "Resolving deltas: 100% (35/35), done.\n",
            "Updating files: 100% (728/728), done.\n"
          ]
        }
      ],
      "source": [
        "!git clone https://github.com/mprksa/Blocks2.git"
      ]
    },
    {
      "cell_type": "markdown",
      "source": [
        "# **1. Muat dan Preprocess Data**"
      ],
      "metadata": {
        "id": "rp423eHWoy17"
      }
    },
    {
      "cell_type": "code",
      "source": [
        "import os\n",
        "import cv2\n",
        "import json\n",
        "import numpy as np\n",
        "import pandas as pd\n",
        "import matplotlib.pyplot as plt\n",
        "from sklearn.model_selection import train_test_split\n",
        "from sklearn.neighbors import KNeighborsClassifier\n",
        "from sklearn.metrics import accuracy_score\n",
        "from sklearn.metrics import classification_report, confusion_matrix, accuracy_score\n"
      ],
      "metadata": {
        "id": "Zd3t5lugo1zY"
      },
      "execution_count": 26,
      "outputs": []
    },
    {
      "cell_type": "code",
      "source": [
        "# Fungsi untuk memuat gambar dan label\n",
        "def load_data(image_folder, label_file, image_size=(256, 256)):\n",
        "    images = []\n",
        "    labels = []\n",
        "\n",
        "    with open(label_file, 'r') as f:\n",
        "        data = json.load(f)\n",
        "\n",
        "    # Create a dictionary to map image_id to file_name\n",
        "    image_id_to_filename = {image['id']: image['file_name'] for image in data['images']}\n",
        "    # Create a dictionary to map category_id to category_name\n",
        "    category_id_to_name = {category['id']: category['name'] for category in data['categories']}\n",
        "\n",
        "    for annotation in data['annotations']:\n",
        "        image_id = annotation['image_id']\n",
        "        category_id = annotation['category_id']\n",
        "\n",
        "        img_path = os.path.join(image_folder, image_id_to_filename[image_id])\n",
        "        if os.path.exists(img_path):\n",
        "            img = cv2.imread(img_path)\n",
        "            if img is not None:\n",
        "                img = cv2.resize(img, image_size)\n",
        "                img_hsv = cv2.cvtColor(img, cv2.COLOR_BGR2HSV)\n",
        "                images.append(img_hsv)\n",
        "                labels.append(category_id_to_name[category_id])\n",
        "\n",
        "    return np.array(images), np.array(labels)"
      ],
      "metadata": {
        "id": "wWA0t1GLo3n7"
      },
      "execution_count": 27,
      "outputs": []
    },
    {
      "cell_type": "code",
      "source": [
        "# Muat data\n",
        "train_images, train_labels = load_data('Blocks2/train/images', 'Blocks2/train/labels.json')\n",
        "test_images, test_labels = load_data('Blocks2/test/images', 'Blocks2/test/labels.json')\n",
        "val_images, val_labels = load_data('Blocks2/validation/images', 'Blocks2/validation/labels.json')\n",
        "\n",
        "# Tampilkan jumlah gambar\n",
        "print(f\"Jumlah gambar untuk pelatihan: {len(train_images)}\")\n",
        "print(f\"Jumlah gambar untuk testing: {len(test_images)}\")\n",
        "print(f\"Jumlah gambar untuk validasi: {len(val_images)}\")"
      ],
      "metadata": {
        "colab": {
          "base_uri": "https://localhost:8080/"
        },
        "id": "9-0euSH3o7oD",
        "outputId": "a68626c2-d716-4e55-f230-b6e411dd3863"
      },
      "execution_count": 23,
      "outputs": [
        {
          "output_type": "stream",
          "name": "stdout",
          "text": [
            "Jumlah gambar untuk pelatihan: 508\n",
            "Jumlah gambar untuk testing: 72\n",
            "Jumlah gambar untuk validasi: 144\n"
          ]
        }
      ]
    },
    {
      "cell_type": "markdown",
      "source": [
        "# **2. Ekstraksi Fitur dan Pelatihan Model K-NN**"
      ],
      "metadata": {
        "id": "ZkE1zNmHo8yL"
      }
    },
    {
      "cell_type": "code",
      "source": [
        "# Ekstraksi fitur H, S, dan V\n",
        "def extract_features(images):\n",
        "    features = []\n",
        "    for img in images:\n",
        "        h, s, v = cv2.split(img)\n",
        "        features.append([np.mean(h), np.mean(s), np.mean(v)])\n",
        "    return np.array(features)\n",
        "\n",
        "def train_knn(train_features, train_labels, val_features, val_labels, epochs=10):\n",
        "    knn = KNeighborsClassifier(n_neighbors=3)\n",
        "\n",
        "    train_accuracies = []\n",
        "    val_accuracies = []\n",
        "\n",
        "    for epoch in range(epochs):\n",
        "        print(f\"Epoch {epoch + 1}/{epochs}\")\n",
        "\n",
        "        # Training model K-NN dengan data latihan\n",
        "        knn.fit(train_features, train_labels)\n",
        "\n",
        "        # Evaluasi pada data pelatihan dan validasi\n",
        "        train_predictions = knn.predict(train_features)\n",
        "        val_predictions = knn.predict(val_features)\n",
        "\n",
        "        train_accuracy = accuracy_score(train_labels, train_predictions)\n",
        "        val_accuracy = accuracy_score(val_labels, val_predictions)\n",
        "\n",
        "        train_accuracies.append(train_accuracy)\n",
        "        val_accuracies.append(val_accuracy)\n",
        "\n",
        "        print(f\"Akurasi Pelatihan: {train_accuracy:.4f} | Akurasi Validasi: {val_accuracy:.4f}\")\n",
        "\n",
        "    return knn, train_accuracies, val_accuracies"
      ],
      "metadata": {
        "id": "EA30HsC1pBaT"
      },
      "execution_count": 28,
      "outputs": []
    },
    {
      "cell_type": "code",
      "source": [
        "# Ekstraksi fitur untuk setiap dataset\n",
        "train_features = extract_features(train_images)\n",
        "test_features = extract_features(test_images)\n",
        "val_features = extract_features(val_images)\n",
        "\n",
        "# Training model dengan epoch dan step per epoch\n",
        "epochs = 10\n",
        "\n",
        "knn_model, train_accuracies, val_accuracies = train_knn(train_features, train_labels, val_features, val_labels, epochs=epochs)"
      ],
      "metadata": {
        "colab": {
          "base_uri": "https://localhost:8080/"
        },
        "id": "nhLF9bPWujEZ",
        "outputId": "fad9c9f5-d851-409a-8966-727940dd2d28"
      },
      "execution_count": 30,
      "outputs": [
        {
          "output_type": "stream",
          "name": "stdout",
          "text": [
            "Epoch 1/10\n",
            "Akurasi Pelatihan: 0.7402 | Akurasi Validasi: 0.2708\n",
            "Epoch 2/10\n",
            "Akurasi Pelatihan: 0.7402 | Akurasi Validasi: 0.2708\n",
            "Epoch 3/10\n",
            "Akurasi Pelatihan: 0.7402 | Akurasi Validasi: 0.2708\n",
            "Epoch 4/10\n",
            "Akurasi Pelatihan: 0.7402 | Akurasi Validasi: 0.2708\n",
            "Epoch 5/10\n",
            "Akurasi Pelatihan: 0.7402 | Akurasi Validasi: 0.2708\n",
            "Epoch 6/10\n",
            "Akurasi Pelatihan: 0.7402 | Akurasi Validasi: 0.2708\n",
            "Epoch 7/10\n",
            "Akurasi Pelatihan: 0.7402 | Akurasi Validasi: 0.2708\n",
            "Epoch 8/10\n",
            "Akurasi Pelatihan: 0.7402 | Akurasi Validasi: 0.2708\n",
            "Epoch 9/10\n",
            "Akurasi Pelatihan: 0.7402 | Akurasi Validasi: 0.2708\n",
            "Epoch 10/10\n",
            "Akurasi Pelatihan: 0.7402 | Akurasi Validasi: 0.2708\n"
          ]
        }
      ]
    },
    {
      "cell_type": "code",
      "source": [
        "# Pelatihan model K-NN\n",
        "knn = KNeighborsClassifier(n_neighbors=3)\n",
        "knn.fit(train_features, train_labels)"
      ],
      "metadata": {
        "colab": {
          "base_uri": "https://localhost:8080/",
          "height": 75
        },
        "id": "xBKxGLocpDiD",
        "outputId": "51a47ed7-f369-4175-f5fb-9f75346280c0"
      },
      "execution_count": 9,
      "outputs": [
        {
          "output_type": "execute_result",
          "data": {
            "text/plain": [
              "KNeighborsClassifier(n_neighbors=3)"
            ],
            "text/html": [
              "<style>#sk-container-id-1 {color: black;background-color: white;}#sk-container-id-1 pre{padding: 0;}#sk-container-id-1 div.sk-toggleable {background-color: white;}#sk-container-id-1 label.sk-toggleable__label {cursor: pointer;display: block;width: 100%;margin-bottom: 0;padding: 0.3em;box-sizing: border-box;text-align: center;}#sk-container-id-1 label.sk-toggleable__label-arrow:before {content: \"▸\";float: left;margin-right: 0.25em;color: #696969;}#sk-container-id-1 label.sk-toggleable__label-arrow:hover:before {color: black;}#sk-container-id-1 div.sk-estimator:hover label.sk-toggleable__label-arrow:before {color: black;}#sk-container-id-1 div.sk-toggleable__content {max-height: 0;max-width: 0;overflow: hidden;text-align: left;background-color: #f0f8ff;}#sk-container-id-1 div.sk-toggleable__content pre {margin: 0.2em;color: black;border-radius: 0.25em;background-color: #f0f8ff;}#sk-container-id-1 input.sk-toggleable__control:checked~div.sk-toggleable__content {max-height: 200px;max-width: 100%;overflow: auto;}#sk-container-id-1 input.sk-toggleable__control:checked~label.sk-toggleable__label-arrow:before {content: \"▾\";}#sk-container-id-1 div.sk-estimator input.sk-toggleable__control:checked~label.sk-toggleable__label {background-color: #d4ebff;}#sk-container-id-1 div.sk-label input.sk-toggleable__control:checked~label.sk-toggleable__label {background-color: #d4ebff;}#sk-container-id-1 input.sk-hidden--visually {border: 0;clip: rect(1px 1px 1px 1px);clip: rect(1px, 1px, 1px, 1px);height: 1px;margin: -1px;overflow: hidden;padding: 0;position: absolute;width: 1px;}#sk-container-id-1 div.sk-estimator {font-family: monospace;background-color: #f0f8ff;border: 1px dotted black;border-radius: 0.25em;box-sizing: border-box;margin-bottom: 0.5em;}#sk-container-id-1 div.sk-estimator:hover {background-color: #d4ebff;}#sk-container-id-1 div.sk-parallel-item::after {content: \"\";width: 100%;border-bottom: 1px solid gray;flex-grow: 1;}#sk-container-id-1 div.sk-label:hover label.sk-toggleable__label {background-color: #d4ebff;}#sk-container-id-1 div.sk-serial::before {content: \"\";position: absolute;border-left: 1px solid gray;box-sizing: border-box;top: 0;bottom: 0;left: 50%;z-index: 0;}#sk-container-id-1 div.sk-serial {display: flex;flex-direction: column;align-items: center;background-color: white;padding-right: 0.2em;padding-left: 0.2em;position: relative;}#sk-container-id-1 div.sk-item {position: relative;z-index: 1;}#sk-container-id-1 div.sk-parallel {display: flex;align-items: stretch;justify-content: center;background-color: white;position: relative;}#sk-container-id-1 div.sk-item::before, #sk-container-id-1 div.sk-parallel-item::before {content: \"\";position: absolute;border-left: 1px solid gray;box-sizing: border-box;top: 0;bottom: 0;left: 50%;z-index: -1;}#sk-container-id-1 div.sk-parallel-item {display: flex;flex-direction: column;z-index: 1;position: relative;background-color: white;}#sk-container-id-1 div.sk-parallel-item:first-child::after {align-self: flex-end;width: 50%;}#sk-container-id-1 div.sk-parallel-item:last-child::after {align-self: flex-start;width: 50%;}#sk-container-id-1 div.sk-parallel-item:only-child::after {width: 0;}#sk-container-id-1 div.sk-dashed-wrapped {border: 1px dashed gray;margin: 0 0.4em 0.5em 0.4em;box-sizing: border-box;padding-bottom: 0.4em;background-color: white;}#sk-container-id-1 div.sk-label label {font-family: monospace;font-weight: bold;display: inline-block;line-height: 1.2em;}#sk-container-id-1 div.sk-label-container {text-align: center;}#sk-container-id-1 div.sk-container {/* jupyter's `normalize.less` sets `[hidden] { display: none; }` but bootstrap.min.css set `[hidden] { display: none !important; }` so we also need the `!important` here to be able to override the default hidden behavior on the sphinx rendered scikit-learn.org. See: https://github.com/scikit-learn/scikit-learn/issues/21755 */display: inline-block !important;position: relative;}#sk-container-id-1 div.sk-text-repr-fallback {display: none;}</style><div id=\"sk-container-id-1\" class=\"sk-top-container\"><div class=\"sk-text-repr-fallback\"><pre>KNeighborsClassifier(n_neighbors=3)</pre><b>In a Jupyter environment, please rerun this cell to show the HTML representation or trust the notebook. <br />On GitHub, the HTML representation is unable to render, please try loading this page with nbviewer.org.</b></div><div class=\"sk-container\" hidden><div class=\"sk-item\"><div class=\"sk-estimator sk-toggleable\"><input class=\"sk-toggleable__control sk-hidden--visually\" id=\"sk-estimator-id-1\" type=\"checkbox\" checked><label for=\"sk-estimator-id-1\" class=\"sk-toggleable__label sk-toggleable__label-arrow\">KNeighborsClassifier</label><div class=\"sk-toggleable__content\"><pre>KNeighborsClassifier(n_neighbors=3)</pre></div></div></div></div></div>"
            ]
          },
          "metadata": {},
          "execution_count": 9
        }
      ]
    },
    {
      "cell_type": "code",
      "source": [
        "# Evaluasi model\n",
        "train_predictions = knn.predict(train_features)\n",
        "test_predictions = knn.predict(test_features)\n",
        "val_predictions = knn.predict(val_features)"
      ],
      "metadata": {
        "id": "Dv_tteRgpFXb"
      },
      "execution_count": 10,
      "outputs": []
    },
    {
      "cell_type": "code",
      "source": [
        "# Tampilkan hasil pelatihan\n",
        "train_accuracy = accuracy_score(train_labels, train_predictions)\n",
        "test_accuracy = accuracy_score(test_labels, test_predictions)\n",
        "val_accuracy = accuracy_score(val_labels, val_predictions)\n",
        "\n",
        "print(f\"Akurasi Pelatihan: {train_accuracy}\")\n",
        "print(f\"Akurasi Testing: {test_accuracy}\")\n",
        "print(f\"Akurasi Validasi: {val_accuracy}\")"
      ],
      "metadata": {
        "colab": {
          "base_uri": "https://localhost:8080/"
        },
        "id": "BV_5_UJgpKf0",
        "outputId": "2549cadb-51b9-43db-d3ee-91df1bcb0b7a"
      },
      "execution_count": 11,
      "outputs": [
        {
          "output_type": "stream",
          "name": "stdout",
          "text": [
            "Akurasi Pelatihan: 0.7401574803149606\n",
            "Akurasi Testing: 0.09722222222222222\n",
            "Akurasi Validasi: 0.2708333333333333\n"
          ]
        }
      ]
    },
    {
      "cell_type": "code",
      "source": [
        "# Plot grafik hasil pelatihan dan validasi\n",
        "plt.figure(figsize=(10, 5))\n",
        "plt.plot(train_accuracy, label='Akurasi Pelatihan')\n",
        "plt.plot(test_accuracy, label='Akurasi Testing')\n",
        "plt.plot(val_accuracy, label='Akurasi Validasi')\n",
        "plt.xlabel('Epoch')\n",
        "plt.ylabel('Akurasi')\n",
        "plt.title('Grafik Akurasi Pelatihan dan Validasi')\n",
        "plt.legend()\n",
        "plt.show()"
      ],
      "metadata": {
        "colab": {
          "base_uri": "https://localhost:8080/",
          "height": 480
        },
        "id": "sWIQ5KkApNNk",
        "outputId": "912b1d81-67f4-4699-a301-4ddd26b3b508"
      },
      "execution_count": 12,
      "outputs": [
        {
          "output_type": "display_data",
          "data": {
            "text/plain": [
              "<Figure size 1000x500 with 1 Axes>"
            ],
            "image/png": "[encoded data removed]"
          },
          "metadata": {}
        }
      ]
    },
    {
      "cell_type": "markdown",
      "source": [
        "# **3. Export Model**"
      ],
      "metadata": {
        "id": "0JTrQ_-FpPMB"
      }
    },
    {
      "cell_type": "code",
      "source": [
        "import joblib\n",
        "\n",
        "# Simpan model K-NN\n",
        "joblib.dump(knn, 'knn_model.pkl')\n"
      ],
      "metadata": {
        "id": "UKrqzJBJpQ_E"
      },
      "execution_count": null,
      "outputs": []
    },
    {
      "cell_type": "markdown",
      "source": [
        "# **4. Analisis dan Laporan**"
      ],
      "metadata": {
        "id": "ddtOXqTVpSg8"
      }
    },
    {
      "cell_type": "code",
      "source": [
        "# Hitung rata-rata H, S, dan V untuk setiap kelas\n",
        "unique_labels = np.unique(train_labels)\n",
        "class_hsv_means = {}\n",
        "\n",
        "for label in unique_labels:\n",
        "    class_indices = np.where(train_labels == label)\n",
        "    class_features = train_features[class_indices]\n",
        "    class_hsv_means[label] = np.mean(class_features, axis=0)\n",
        "\n",
        "# Tampilkan dalam bentuk tabel menggunakan pandas\n",
        "df = pd.DataFrame(class_hsv_means, index=['Rata-rata H', 'Rata-rata S', 'Rata-rata V'])\n",
        "print(df)"
      ],
      "metadata": {
        "colab": {
          "base_uri": "https://localhost:8080/"
        },
        "id": "8wpo3emEpU3E",
        "outputId": "224be7ac-d13a-4606-9542-af052dcd68aa"
      },
      "execution_count": 13,
      "outputs": [
        {
          "output_type": "stream",
          "name": "stdout",
          "text": [
            "Rata-rata H, S, V untuk kelas biru: [ 37.86565165  52.37085565 129.74368996]\n",
            "Rata-rata H, S, V untuk kelas hitam: [ 31.49118042  44.34113686 130.34743575]\n",
            "Rata-rata H, S, V untuk kelas kuning: [ 30.93372195  55.05349253 125.00416221]\n",
            "Rata-rata H, S, V untuk kelas merah: [ 30.72375156  54.94794517 132.26138004]\n",
            "Rata-rata H, S, V untuk kelas putih: [ 31.85866262  46.74470774 123.00552862]\n"
          ]
        }
      ]
    },
    {
      "cell_type": "code",
      "source": [
        "# Tampilkan classification report dan confusion matrix\n",
        "val_class_report = classification_report(val_labels, val_predictions)\n",
        "val_conf_matrix = confusion_matrix(val_labels, val_predictions)"
      ],
      "metadata": {
        "id": "yCl6_z5lpYzP"
      },
      "execution_count": 14,
      "outputs": []
    },
    {
      "cell_type": "code",
      "source": [
        "print(\"Classification Report untuk Validasi:\")\n",
        "print(val_class_report)"
      ],
      "metadata": {
        "colab": {
          "base_uri": "https://localhost:8080/"
        },
        "id": "wj5O-YkQpa1M",
        "outputId": "9a3d8d41-3a59-401c-b63d-fad8ccd21cd6"
      },
      "execution_count": 15,
      "outputs": [
        {
          "output_type": "stream",
          "name": "stdout",
          "text": [
            "Classification Report untuk Validasi:\n",
            "              precision    recall  f1-score   support\n",
            "\n",
            "        biru       0.29      0.48      0.36        29\n",
            "       hitam       0.31      0.62      0.41        29\n",
            "      kuning       0.10      0.04      0.05        28\n",
            "       merah       0.28      0.17      0.21        29\n",
            "       putih       0.11      0.03      0.05        29\n",
            "\n",
            "    accuracy                           0.27       144\n",
            "   macro avg       0.22      0.27      0.22       144\n",
            "weighted avg       0.22      0.27      0.22       144\n",
            "\n"
          ]
        }
      ]
    },
    {
      "cell_type": "code",
      "source": [
        "print(\"Confusion Matrix untuk Validasi:\")\n",
        "print(val_conf_matrix)"
      ],
      "metadata": {
        "colab": {
          "base_uri": "https://localhost:8080/"
        },
        "id": "Jxc6PAwXpcH8",
        "outputId": "6729fb96-4bfc-4367-a596-b3b5c76b4747"
      },
      "execution_count": 16,
      "outputs": [
        {
          "output_type": "stream",
          "name": "stdout",
          "text": [
            "Confusion Matrix untuk Validasi:\n",
            "[[14  3  0  5  7]\n",
            " [ 5 18  6  0  0]\n",
            " [10 14  1  3  0]\n",
            " [13 10  0  5  1]\n",
            " [ 6 14  3  5  1]]\n"
          ]
        }
      ]
    },
    {
      "cell_type": "code",
      "source": [
        "# Plot Confusion Matrix\n",
        "plt.figure(figsize=(8, 6))\n",
        "plt.imshow(val_conf_matrix, interpolation='nearest', cmap=plt.cm.Blues)\n",
        "plt.title('Confusion Matrix')\n",
        "plt.colorbar()\n",
        "tick_marks = np.arange(len(unique_labels))\n",
        "plt.xticks(tick_marks, unique_labels, rotation=45)\n",
        "plt.yticks(tick_marks, unique_labels)\n",
        "plt.ylabel('True label')\n",
        "plt.xlabel('Predicted label')\n",
        "plt.show()"
      ],
      "metadata": {
        "colab": {
          "base_uri": "https://localhost:8080/",
          "height": 593
        },
        "id": "D5Y-GkRLpdVE",
        "outputId": "be8d89b6-cc89-4dc9-8e51-93f23a439ce4"
      },
      "execution_count": 17,
      "outputs": [
        {
          "output_type": "display_data",
          "data": {
            "text/plain": [
              "<Figure size 800x600 with 2 Axes>"
            ],
            "image/png": "[encoded data removed]"
          },
          "metadata": {}
        }
      ]
    }
  ]
}