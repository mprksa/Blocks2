{
  "nbformat": 4,
  "nbformat_minor": 0,
  "metadata": {
    "colab": {
      "provenance": [],
      "gpuType": "T4",
      "authorship_tag": "ABX9TyM4oEawJ+kRINpJpkvHmwSe",
      "include_colab_link": true
    },
    "kernelspec": {
      "name": "python3",
      "display_name": "Python 3"
    },
    "language_info": {
      "name": "python"
    },
    "accelerator": "GPU"
  },
  "cells": [
    {
      "cell_type": "markdown",
      "metadata": {
        "id": "view-in-github",
        "colab_type": "text"
      },
      "source": [
        "<a href=\"https://colab.research.google.com/github/mprksa/Blocks2/blob/main/KNN.ipynb\" target=\"_parent\"><img src=\"https://colab.research.google.com/assets/colab-badge.svg\" alt=\"Open In Colab\"/></a>"
      ]
    },
    {
      "cell_type": "code",
      "source": [
        "!git clone https://github.com/mprksa/Blocks2.git"
      ],
      "metadata": {
        "colab": {
          "base_uri": "https://localhost:8080/"
        },
        "id": "WnJjEhFEQqys",
        "outputId": "1b0df6da-4d22-4fdb-b49b-6bf4f7ee6129"
      },
      "execution_count": 10,
      "outputs": [
        {
          "output_type": "stream",
          "name": "stdout",
          "text": [
            "Cloning into 'Blocks2'...\n",
            "remote: Enumerating objects: 859, done.\u001b[K\n",
            "remote: Counting objects: 100% (859/859), done.\u001b[K\n",
            "remote: Compressing objects: 100% (845/845), done.\u001b[K\n",
            "remote: Total 859 (delta 27), reused 0 (delta 0), pack-reused 0\u001b[K\n",
            "Receiving objects: 100% (859/859), 1.82 GiB | 23.28 MiB/s, done.\n",
            "Resolving deltas: 100% (27/27), done.\n",
            "Updating files: 100% (724/724), done.\n"
          ]
        }
      ]
    },
    {
      "cell_type": "markdown",
      "source": [
        "# **Bagian 1: Import Library dan Definisikan Fungsi**"
      ],
      "metadata": {
        "id": "ln3KGx69P2Tv"
      }
    },
    {
      "cell_type": "code",
      "execution_count": 11,
      "metadata": {
        "id": "s8RfgOHyPpHx"
      },
      "outputs": [],
      "source": [
        "import os\n",
        "import json\n",
        "import cv2\n",
        "import numpy as np\n",
        "import matplotlib.pyplot as plt\n",
        "from sklearn.metrics import f1_score, classification_report"
      ]
    },
    {
      "cell_type": "code",
      "source": [
        "def load_images_and_labels(image_folder, label_file):\n",
        "    images = []\n",
        "    labels = []\n",
        "\n",
        "    # Membaca labels.json\n",
        "    with open(label_file, 'r') as f:\n",
        "        label_data = json.load(f)\n",
        "\n",
        "    # Membaca setiap citra dan labelnya\n",
        "    for item in label_data['images']:\n",
        "        img_file = item['file_name']\n",
        "        img_path = os.path.join(image_folder, img_file)\n",
        "        image = cv2.imread(img_path)\n",
        "        if image is not None:\n",
        "            images.append(image)\n",
        "            labels.append(item['id'])\n",
        "\n",
        "    return images, labels"
      ],
      "metadata": {
        "id": "w6FBH8NwQJgL"
      },
      "execution_count": 12,
      "outputs": []
    },
    {
      "cell_type": "code",
      "source": [
        "def apply_convolution(image, kernel):\n",
        "    return cv2.filter2D(image, -1, kernel)"
      ],
      "metadata": {
        "id": "2IJjjRVWQLgL"
      },
      "execution_count": 13,
      "outputs": []
    },
    {
      "cell_type": "code",
      "source": [
        "def rgb_to_hsv(image):\n",
        "    hsv_image = cv2.cvtColor(image, cv2.COLOR_BGR2HSV)\n",
        "    return hsv_image"
      ],
      "metadata": {
        "id": "KTYxuSCZZZTA"
      },
      "execution_count": 14,
      "outputs": []
    },
    {
      "cell_type": "code",
      "source": [
        "def extract_hsv_features_with_convolution(images, labels):\n",
        "    sobel_x = np.array([[-1, 0, 1],\n",
        "                        [-2, 0, 2],\n",
        "                        [-1, 0, 1]])\n",
        "\n",
        "    sobel_y = np.array([[-1, -2, -1],\n",
        "                        [0, 0, 0],\n",
        "                        [1, 2, 1]])\n",
        "\n",
        "    features = []\n",
        "    for image, label in zip(images, labels):\n",
        "        convolved_image_x = apply_convolution(image, sobel_x)\n",
        "        convolved_image_y = apply_convolution(image, sobel_y)\n",
        "\n",
        "        convolved_image = cv2.addWeighted(convolved_image_x, 0.5, convolved_image_y, 0.5, 0)\n",
        "\n",
        "        hsv_image = rgb_to_hsv(convolved_image)\n",
        "\n",
        "        hsv_values = hsv_image.reshape(-1, 3)\n",
        "        features.append((hsv_values, label))\n",
        "    return features"
      ],
      "metadata": {
        "id": "1X7kavqOQNjX"
      },
      "execution_count": 15,
      "outputs": []
    },
    {
      "cell_type": "code",
      "source": [
        "def prepare_data(features):\n",
        "    data = []\n",
        "    labels = []\n",
        "    for hsv_values, label in features:\n",
        "        data.append(hsv_values)\n",
        "        labels.extend([label] * len(hsv_values))\n",
        "    return np.vstack(data), np.array(labels)"
      ],
      "metadata": {
        "id": "Q0EwYMzFS8Ne"
      },
      "execution_count": 16,
      "outputs": []
    },
    {
      "cell_type": "code",
      "source": [
        "def test_model(knn, test_features, k=3):\n",
        "    true_labels = []\n",
        "    predicted_labels = []\n",
        "\n",
        "    for hsv_values, true_label in test_features:\n",
        "        ret, results, neighbours, dist = knn.findNearest(hsv_values.astype(np.float32), k=k)\n",
        "        predicted_label = np.bincount(results.flatten().astype(int)).argmax()\n",
        "\n",
        "        true_labels.append(true_label)\n",
        "        predicted_labels.append(predicted_label)\n",
        "\n",
        "    accuracy = np.mean(np.array(true_labels) == np.array(predicted_labels))\n",
        "    return accuracy, true_labels, predicted_labels"
      ],
      "metadata": {
        "id": "9BPAkURsS-OI"
      },
      "execution_count": 17,
      "outputs": []
    },
    {
      "cell_type": "code",
      "source": [
        "# Fungsi untuk menghitung nilai rata-rata RGB untuk setiap kelas\n",
        "def calculate_average_rgb(images, labels):\n",
        "    class_rgb_values = {}\n",
        "    for image, label in zip(images, labels):\n",
        "        if label not in class_rgb_values:\n",
        "            class_rgb_values[label] = []\n",
        "        class_rgb_values[label].append(np.mean(image, axis=(0, 1)))\n",
        "\n",
        "    average_rgb_values = {label: np.mean(np.array(rgb_values), axis=0) for label, rgb_values in class_rgb_values.items()}\n",
        "    return average_rgb_values"
      ],
      "metadata": {
        "id": "MCVFPr-BXHpU"
      },
      "execution_count": 18,
      "outputs": []
    },
    {
      "cell_type": "markdown",
      "source": [
        "# **Bagian 2: Memuat Data dan Mengekstraksi Fitur**"
      ],
      "metadata": {
        "id": "N6r4WwmIQSqG"
      }
    },
    {
      "cell_type": "code",
      "source": [
        "# Membaca data dari masing-masing folder\n",
        "train_images, train_labels = load_images_and_labels('Blocks2/train/images', 'Blocks2/train/labels.json')\n",
        "val_images, val_labels = load_images_and_labels('Blocks2/validation/images', 'Blocks2/validation/labels.json')\n",
        "test_images, test_labels = load_images_and_labels('Blocks2/test/images', 'Blocks2/test/labels.json')"
      ],
      "metadata": {
        "id": "vnVwEPyvQXfU"
      },
      "execution_count": null,
      "outputs": []
    },
    {
      "cell_type": "code",
      "source": [
        "# Ekstraksi fitur dari citra dengan konvolusi\n",
        "train_features = extract_hsv_features_with_convolution(train_images, train_labels)\n",
        "val_features = extract_hsv_features_with_convolution(val_images, val_labels)\n",
        "test_features = extract_hsv_features_with_convolution(test_images, test_labels)"
      ],
      "metadata": {
        "id": "86j2zRiNQZhI"
      },
      "execution_count": 12,
      "outputs": []
    },
    {
      "cell_type": "code",
      "source": [
        "# Menampilkan jumlah gambar di setiap folder\n",
        "print(f\"Number of training images: {len(train_images)}\")\n",
        "print(f\"Number of validation images: {len(val_images)}\")\n",
        "print(f\"Number of test images: {len(test_images)}\")"
      ],
      "metadata": {
        "colab": {
          "base_uri": "https://localhost:8080/"
        },
        "id": "dICwhzSwXWv7",
        "outputId": "6f46627a-e12b-48fd-8470-0e806a074151"
      },
      "execution_count": 13,
      "outputs": [
        {
          "output_type": "stream",
          "name": "stdout",
          "text": [
            "Number of training images: 0\n",
            "Number of validation images: 0\n",
            "Number of test images: 0\n"
          ]
        }
      ]
    },
    {
      "cell_type": "markdown",
      "source": [
        "# **Bagian 3: Melatih Model dan Menampilkan Grafik Akurasi dan F1 Score**"
      ],
      "metadata": {
        "id": "6hqMEvuvQbc3"
      }
    },
    {
      "cell_type": "code",
      "source": [
        "# Menyiapkan data untuk pelatihan\n",
        "train_data, train_labels = prepare_data(train_features)\n",
        "val_data, val_labels = prepare_data(val_features)"
      ],
      "metadata": {
        "id": "MjHiRwENQfqy"
      },
      "execution_count": null,
      "outputs": []
    },
    {
      "cell_type": "code",
      "source": [
        "# Mencari akurasi untuk berbagai nilai K\n",
        "k_values = range(1, 11)\n",
        "train_accuracies = []\n",
        "val_accuracies = []\n",
        "val_f1_scores = []"
      ],
      "metadata": {
        "id": "av3IbEBwTRlf"
      },
      "execution_count": null,
      "outputs": []
    },
    {
      "cell_type": "code",
      "source": [
        "for k in k_values:\n",
        "    knn = cv2.ml.KNearest_create()\n",
        "    knn.train(train_data.astype(np.float32), cv2.ml.ROW_SAMPLE, train_labels.astype(np.int32))\n",
        "\n",
        "    # Menghitung akurasi pada data pelatihan\n",
        "    train_accuracy, _, _ = test_model(knn, train_features, k=k)\n",
        "    train_accuracies.append(train_accuracy)\n",
        "\n",
        "    # Menghitung akurasi dan F1 Score pada data validasi\n",
        "    val_accuracy, true_labels, predicted_labels = test_model(knn, val_features, k=k)\n",
        "    val_accuracies.append(val_accuracy)\n",
        "    val_f1_scores.append(f1_score(true_labels, predicted_labels, average='weighted'))\n",
        "\n",
        "# Menampilkan hasil\n",
        "print(f\"Train Accuracies: {train_accuracies}\")\n",
        "print(f\"Validation Accuracies: {val_accuracies}\")\n",
        "print(f\"Validation F1 Scores: {val_f1_scores}\")"
      ],
      "metadata": {
        "id": "Cjg1iL-zXkkV"
      },
      "execution_count": null,
      "outputs": []
    },
    {
      "cell_type": "code",
      "source": [
        "# Menampilkan grafik akurasi dan F1 Score\n",
        "plt.figure(figsize=(10, 5))\n",
        "plt.plot(k_values, train_accuracies, label='Training Accuracy', marker='o')\n",
        "plt.plot(k_values, val_accuracies, label='Validation Accuracy', marker='o')\n",
        "plt.plot(k_values, val_f1_scores, label='Validation F1 Score', marker='o')\n",
        "plt.xlabel('Number of Neighbors (K)')\n",
        "plt.ylabel('Score')\n",
        "plt.title('KNN Performance for Different K Values')\n",
        "plt.legend()\n",
        "plt.grid()\n",
        "plt.show()"
      ],
      "metadata": {
        "id": "DdMO10ZAXnhk"
      },
      "execution_count": null,
      "outputs": []
    },
    {
      "cell_type": "markdown",
      "source": [
        "# **Bagian 4: Menghitung Nilai Rata-Rata RGB dan Menampilkan Hasil Uji**"
      ],
      "metadata": {
        "id": "cMzuzFrBQiK0"
      }
    },
    {
      "cell_type": "code",
      "source": [
        "# Menghitung nilai rata-rata RGB untuk setiap kelas\n",
        "average_rgb_values = calculate_average_rgb(train_images, train_labels)\n",
        "print(f\"Average RGB values for each class: {average_rgb_values}\")"
      ],
      "metadata": {
        "id": "FFDjAxnPQklC"
      },
      "execution_count": null,
      "outputs": []
    },
    {
      "cell_type": "code",
      "source": [
        "# Menghitung F1 Score pada data uji\n",
        "best_k = k_values[np.argmax(val_f1_scores)]\n",
        "knn = cv2.ml.KNearest_create()\n",
        "knn.train(train_data.astype(np.float32), cv2.ml.ROW_SAMPLE, train_labels.astype(np.int32))\n",
        "test_accuracy, test_true_labels, test_predicted_labels = test_model(knn, test_features, k=best_k)\n",
        "test_f1_score = f1_score(test_true_labels, test_predicted_labels, average='weighted')\n",
        "print(f\"Test Accuracy: {test_accuracy}\")\n",
        "print(f\"Test F1 Score: {test_f1_score}\")\n",
        "print(classification_report(test_true_labels, test_predicted_labels))"
      ],
      "metadata": {
        "id": "Q_P4vTGXQmir"
      },
      "execution_count": null,
      "outputs": []
    },
    {
      "cell_type": "markdown",
      "source": [
        "# **Bagian 5: Menyimpan dan Memuat Model**"
      ],
      "metadata": {
        "id": "rtm3RkCEXzK3"
      }
    },
    {
      "cell_type": "code",
      "source": [
        "# Menyimpan model ke file\n",
        "model_filename = 'knn_model.yml'\n",
        "knn.save(model_filename)\n",
        "print(f\"Model saved to {model_filename}\")"
      ],
      "metadata": {
        "id": "0M49VtnmX0MX"
      },
      "execution_count": null,
      "outputs": []
    },
    {
      "cell_type": "code",
      "source": [
        "# Memuat model dari file (contoh penggunaan)\n",
        "knn_loaded = cv2.ml.KNearest_create()\n",
        "knn_loaded = knn_loaded.load(model_filename)"
      ],
      "metadata": {
        "id": "Mv9cpEgMX31Y"
      },
      "execution_count": null,
      "outputs": []
    },
    {
      "cell_type": "code",
      "source": [
        "# Verifikasi model yang dimuat menghasilkan hasil yang sama\n",
        "loaded_test_accuracy, loaded_test_true_labels, loaded_test_predicted_labels = test_model(knn_loaded, test_features, k=best_k)\n",
        "loaded_test_f1_score = f1_score(loaded_test_true_labels, loaded_test_predicted_labels, average='weighted')\n",
        "print(f\"Loaded Test Accuracy: {loaded_test_accuracy}\")\n",
        "print(f\"Loaded Test F1 Score: {loaded_test_f1_score}\")\n",
        "print(classification_report(loaded_test_true_labels, loaded_test_predicted_labels))"
      ],
      "metadata": {
        "id": "hrONgy1QX58X"
      },
      "execution_count": null,
      "outputs": []
    }
  ]
}